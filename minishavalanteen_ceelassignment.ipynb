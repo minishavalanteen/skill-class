{
  "cells": [
    {
      "cell_type": "markdown",
      "metadata": {
        "id": "view-in-github",
        "colab_type": "text"
      },
      "source": [
        "<a href=\"https://colab.research.google.com/github/minishavalanteen/skill-class/blob/main/minishavalanteen_ceelassignment.ipynb\" target=\"_parent\"><img src=\"https://colab.research.google.com/assets/colab-badge.svg\" alt=\"Open In Colab\"/></a>"
      ]
    },
    {
      "cell_type": "markdown",
      "id": "ab930fb2",
      "metadata": {
        "id": "ab930fb2"
      },
      "source": [
        "# Lambda calculus\n",
        "\n",
        "The most obvious place where we encounter lambda expressions in Python is with their 'anonymous functions', so called because you do not have to name these functions. For example, the following is an anonymous function that doubles its input:"
      ]
    },
    {
      "cell_type": "code",
      "execution_count": 1,
      "id": "1d8653f6",
      "metadata": {
        "scrolled": false,
        "id": "1d8653f6",
        "colab": {
          "base_uri": "https://localhost:8080/"
        },
        "outputId": "f3793a95-8981-4c85-f54f-6edc66c92b58"
      },
      "outputs": [
        {
          "output_type": "execute_result",
          "data": {
            "text/plain": [
              "<function __main__.<lambda>(x)>"
            ]
          },
          "metadata": {},
          "execution_count": 1
        }
      ],
      "source": [
        "lambda x: x*2"
      ]
    },
    {
      "cell_type": "markdown",
      "id": "674e8225",
      "metadata": {
        "id": "674e8225"
      },
      "source": [
        "The defining of the above function corresponds with the 'lambda abstraction rule' of lambda calculus. We have given this function no input, so we get no output either. Furthermore, since the function is anonymous, we cannot reference its name and invoke it later. Instead, we should immediately supply the lambda expression with some input:"
      ]
    },
    {
      "cell_type": "code",
      "execution_count": null,
      "id": "ed8cebc9",
      "metadata": {
        "id": "ed8cebc9"
      },
      "outputs": [],
      "source": [
        "(lambda x: x*2)(6)"
      ]
    },
    {
      "cell_type": "markdown",
      "id": "0fa9bb16",
      "metadata": {
        "id": "0fa9bb16"
      },
      "source": [
        "Python will then produce the output of this function applied to the input (corresponding to the 'application rule'). We do not need to limit ourselves to one parameter either, as this exponential growth formula shows:"
      ]
    },
    {
      "cell_type": "code",
      "execution_count": 4,
      "id": "0c03aa8d",
      "metadata": {
        "id": "0c03aa8d",
        "colab": {
          "base_uri": "https://localhost:8080/"
        },
        "outputId": "980c7392-e77f-4392-9e91-7d75ab4f5662"
      },
      "outputs": [
        {
          "output_type": "execute_result",
          "data": {
            "text/plain": [
              "54"
            ]
          },
          "metadata": {},
          "execution_count": 4
        }
      ],
      "source": [
        "(lambda x, g, t: x*g**t)(2,3,3)"
      ]
    },
    {
      "cell_type": "code",
      "source": [],
      "metadata": {
        "id": "32kJi6cKejRL"
      },
      "id": "32kJi6cKejRL",
      "execution_count": null,
      "outputs": []
    },
    {
      "cell_type": "markdown",
      "id": "51e16998",
      "metadata": {
        "id": "51e16998"
      },
      "source": [
        "we actually *can* assign a variable name to a lambda expression if we want, in which case it is just an alternative syntax for defining a function. The following two are identical functions:"
      ]
    },
    {
      "cell_type": "code",
      "execution_count": 6,
      "id": "267834b5",
      "metadata": {
        "id": "267834b5",
        "colab": {
          "base_uri": "https://localhost:8080/"
        },
        "outputId": "8c41735a-ee35-465b-dc4e-e25afeeb3a24"
      },
      "outputs": [
        {
          "output_type": "stream",
          "name": "stdout",
          "text": [
            "8\n"
          ]
        }
      ],
      "source": [
        "def double_a(x):\n",
        "    return x*2\n",
        "\n",
        "double_b = lambda x: x*2\n",
        "\n",
        "print(double_b(4))"
      ]
    },
    {
      "cell_type": "markdown",
      "id": "48976e54",
      "metadata": {
        "id": "48976e54"
      },
      "source": [
        "In general, the 'normal' way is preferred. A great way to use lambda expressions is to have a regular function (that wants some argument *n*) **return** a lambda expression that involves *n*. Think of the regular function as a template for producing a family of lambda expressions depending on *n*\n",
        "\n",
        "### Exercise 1\n",
        "Define a function with at least 1 parameter that returns a lambda expression with also at least 1 parameter and uses the argument of the function. Show, with a few examples, what the function does for different inputs for the function (and the lambda expression)."
      ]
    },
    {
      "cell_type": "code",
      "source": [
        "format_numeric = lambda num: f\"{num:e}\" if isinstance(num, int) else f\"{num:,.2f}\"\n",
        " \n",
        "print(\"Int formatting:\", format_numeric(6789))\n",
        "print(\"float formatting:\", format_numeric(9089.99))"
      ],
      "metadata": {
        "colab": {
          "base_uri": "https://localhost:8080/"
        },
        "id": "-wbGFzJDgxow",
        "outputId": "9a4fb27b-e52e-4d19-97a5-0cf9483b7c98"
      },
      "id": "-wbGFzJDgxow",
      "execution_count": 13,
      "outputs": [
        {
          "output_type": "stream",
          "name": "stdout",
          "text": [
            "Int formatting: 6.789000e+03\n",
            "float formatting: 9,089.99\n"
          ]
        }
      ]
    },
    {
      "cell_type": "code",
      "source": [
        "nums = [1, 2, 3, 4, 5, 6, 7, 8, 9, 10]\n",
        "print(\"Original list of integers:\")\n",
        "print(nums)\n",
        "print(\"\\nSquare of integers:\")\n",
        "square_nums = list(map(lambda x: x ** 2, nums))\n",
        "print(square_nums)\n",
        "print(\"\\nCube of integers:\")\n",
        "cube_nums = list(map(lambda x: x ** 3, nums))\n",
        "print(cube_nums)"
      ],
      "metadata": {
        "colab": {
          "base_uri": "https://localhost:8080/"
        },
        "id": "Baq5QhWejqEd",
        "outputId": "391c19a7-a29c-461a-c8a5-3b805e3dd889"
      },
      "id": "Baq5QhWejqEd",
      "execution_count": 25,
      "outputs": [
        {
          "output_type": "stream",
          "name": "stdout",
          "text": [
            "Original list of integers:\n",
            "[1, 2, 3, 4, 5, 6, 7, 8, 9, 10]\n",
            "\n",
            "Square of integers:\n",
            "[1, 4, 9, 16, 25, 36, 49, 64, 81, 100]\n",
            "\n",
            "Cube of integers:\n",
            "[1, 8, 27, 64, 125, 216, 343, 512, 729, 1000]\n"
          ]
        }
      ]
    },
    {
      "cell_type": "code",
      "source": [
        "def double_a(x):\n",
        "    return x*2\n",
        "\n",
        "double_b = lambda x: x*2\n",
        "\n",
        "print(double_b(9))"
      ],
      "metadata": {
        "colab": {
          "base_uri": "https://localhost:8080/"
        },
        "id": "V37R5f6Zevp7",
        "outputId": "eee4acc8-5849-468e-a3ca-bcbd1cd47c69"
      },
      "id": "V37R5f6Zevp7",
      "execution_count": 7,
      "outputs": [
        {
          "output_type": "stream",
          "name": "stdout",
          "text": [
            "18\n"
          ]
        }
      ]
    },
    {
      "cell_type": "code",
      "source": [
        "(lambda x, g, t: x*g**t)(9,6,10)"
      ],
      "metadata": {
        "colab": {
          "base_uri": "https://localhost:8080/"
        },
        "id": "g8X_pymGekhy",
        "outputId": "a7049f50-6f32-4daf-e4c7-b8ae510fe48f"
      },
      "id": "g8X_pymGekhy",
      "execution_count": 5,
      "outputs": [
        {
          "output_type": "execute_result",
          "data": {
            "text/plain": [
              "544195584"
            ]
          },
          "metadata": {},
          "execution_count": 5
        }
      ]
    },
    {
      "cell_type": "markdown",
      "id": "8c41f3c8",
      "metadata": {
        "id": "8c41f3c8"
      },
      "source": [
        "Another frequent use is for manipulating iterable data objects (like lists, dataframes, dictionaries, etc), such as with the .sort() method, or the map() and filter() functions. The map function applies an operation to every element of the data  object. For both map() and filter(), you need to wrap them with list() to actually return the mapped or filtered list; so it takes the form of *list(filter(lambda x: ..., list1))*.\n",
        "\n",
        "### Exercise 2\n",
        "Use lambda expressions and the above-mentioned functions to manipulate the data (a list of dictionaries) below as follows:\n",
        "* sort the data by country\n",
        "* return a filtered list that has only those entries whose 'name' starts with an A or a B\n",
        "* return a filtered list that has only those entries whose 'number' is not divisible by 2 or 3\n",
        "* return a list with the same values as the original, except that each 'number' entry has been doubled\n"
      ]
    },
    {
      "cell_type": "code",
      "execution_count": 8,
      "id": "7d1b8751",
      "metadata": {
        "id": "7d1b8751"
      },
      "outputs": [],
      "source": [
        "data = [{'country': \"Ukraine\",'number': \"3\",'name': \"Derek Bolton\"},{'country': \"United States\",'number': \"3\",'name': \"Britanney Durham\"},{'country': \"China\",'number': \"7\",'name': \"Rachel Dickson\"},{'country': \"India\",'number': \"4\",'name': \"Oren Dominguez\"},{'country': \"Norway\",'number': \"5\",'name': \"Keane Dean\"},{'country': \"New Zealand\",'number': \"8\",'name': \"Tarik Coleman\"},{'country': \"South Africa\",'number': \"3\",'name': \"Uriel Greene\"},{'country': \"China\",'number': \"6\",'name': \"Minerva Shields\"},{'country': \"Norway\",'number': \"7\",'name': \"Robin Butler\"},{'country': \"Germany\",'number': \"7\",'name': \"Stacey Nixon\"},{'country': \"South Africa\",'number': \"4\",'name': \"Glenna Clark\"},{'country': \"Australia\",'number': \"7\",'name': \"Adena Smith\"},{'country': \"Italy\",'number': \"2\",'name': \"Ronan Ellis\"},{'country': \"Chile\",'number': \"1\",'name': \"Ignatius Guy\"},{'country': \"Belgium\",'number': \"8\",'name': \"Barclay Lindsey\"},{'country': \"Peru\",'number': \"2\",'name': \"Fuller Burris\"},{'country': \"Ukraine\",'number': \"2\",'name': \"Kylan Witt\"},{'country': \"United States\",'number': \"1\",'name': \"Kitra Willis\"},{'country': \"Austria\",'number': \"6\",'name': \"Indigo Dillard\"},{'country': \"Chile\",'number': \"3\",'name': \"Benedict Powell\"},{'country': \"Russian Federation\",'number': \"9\",'name': \"Duncan Ware\"},{'country': \"Peru\",'number': \"7\",'name': \"Abra Lewis\"},{'country': \"China\",'number': \"5\",'name': \"Callie Cole\"},{'country': \"United States\",'number': \"0\",'name': \"Cedric Gates\"},{'country': \"Ukraine\",'number': \"7\",'name': \"Malcolm Cox\"},{'country': \"Brazil\",'number': \"6\",'name': \"Connor Potts\"},{'country': \"Sweden\",'number': \"7\",'name': \"Lyle Nguyen\"},{'country': \"United States\",'number': \"3\",'name': \"Rudyard Barrett\"},{'country': \"Costa Rica\",'number': \"2\",'name': \"Judah Brock\"},{'country': \"South Korea\",'number': \"2\",'name': \"Lucius Snider\"},{'country': \"China\",'number': \"1\",'name': \"Cassady Mcdaniel\"},{'country': \"Singapore\",'number': \"2\",'name': \"Allegra Baird\"},{'country': \"Philippines\",'number': \"4\",'name': \"Omar Burgess\"},{'country': \"Turkey\",'number': \"7\",'name': \"Kenyon Rosa\"},{'country': \"Poland\",'number': \"6\",'name': \"Yen Sargent\"},{'country': \"China\",'number': \"3\",'name': \"Rashad Grimes\"},{'country': \"Spain\",'number': \"7\",'name': \"Tamekah Gutierrez\"},{'country': \"Ukraine\",'number': \"3\",'name': \"Liberty Mathis\"},{'country': \"Mexico\",'number': \"3\",'name': \"Rylee Sharpe\"},{'country': \"Mexico\",'number': \"3\",'name': \"Brynn Hinton\"},{'country': \"Sweden\",'number': \"2\",'name': \"Quinn Berg\"},{'country': \"Philippines\",'number': \"9\",'name': \"Simone Tanner\"},{'country': \"Ireland\",'number': \"2\",'name': \"Simon Giles\"},{'country': \"United Kingdom\",'number': \"10\",'name': \"Zenia Coffey\"},{'country': \"Mexico\",'number': \"2\",'name': \"Yael Glass\"},{'country': \"Colombia\",'number': \"5\",'name': \"Inga Russell\"},{'country': \"United Kingdom\",'number': \"1\",'name': \"Brendan Pearson\"},{'country': \"Austria\",'number': \"3\",'name': \"Shafira Parks\"},{'country': \"India\",'number': \"9\",'name': \"Dante Charles\"},{'country': \"Sweden\",'number': \"8\",'name': \"Kylee Good\"},{'country': \"Canada\",'number': \"1\",'name': \"September Bryan\"},{'country': \"Costa Rica\",'number': \"5\",'name': \"Hakeem Flowers\"},{'country': \"Peru\",'number': \"0\",'name': \"Ross Moss\"},{'country': \"Spain\",'number': \"8\",'name': \"Bo Hardy\"},{'country': \"Austria\",'number': \"2\",'name': \"Davis Cardenas\"},{'country': \"Ireland\",'number': \"2\",'name': \"Lane Chandler\"},{'country': \"Ukraine\",'number': \"3\",'name': \"Mohammad Holder\"},{'country': \"Vietnam\",'number': \"8\",'name': \"Jonas Bryan\"},{'country': \"Costa Rica\",'number': \"0\",'name': \"Eve Rivas\"},{'country': \"Australia\",'number': \"4\",'name': \"Elton Collins\"},{'country': \"Norway\",'number': \"8\",'name': \"Cain Fields\"},{'country': \"Vietnam\",'number': \"0\",'name': \"Iliana Daniels\"},{'country': \"Mexico\",'number': \"7\",'name': \"Rajah Robles\"},{'country': \"Australia\",'number': \"3\",'name': \"Charity Conner\"},{'country': \"Chile\",'number': \"5\",'name': \"Kay Parsons\"},{'country': \"Ireland\",'number': \"4\",'name': \"Rachel Howell\"},{'country': \"Singapore\",'number': \"3\",'name': \"Walter Forbes\"},{'country': \"Colombia\",'number': \"1\",'name': \"Gray Hayden\"},{'country': \"Netherlands\",'number': \"9\",'name': \"Ivana Compton\"},{'country': \"South Korea\",'number': \"8\",'name': \"Jamal Kelly\"},{'country': \"Pakistan\",'number': \"0\",'name': \"Robert Cunningham\"},{'country': \"Spain\",'number': \"4\",'name': \"Ignatius Newman\"},{'country': \"Canada\",'number': \"8\",'name': \"Gisela Glenn\"},{'country': \"Vietnam\",'number': \"1\",'name': \"Eliana Nicholson\"},{'country': \"Ukraine\",'number': \"4\",'name': \"Christen James\"},{'country': \"France\",'number': \"4\",'name': \"Devin Spears\"},{'country': \"Costa Rica\",'number': \"3\",'name': \"Phelan Hodges\"},{'country': \"Chile\",'number': \"4\",'name': \"Stewart Coffey\"},{'country': \"Singapore\",'number': \"6\",'name': \"Kasper Justice\"},{'country': \"Italy\",'number': \"7\",'name': \"Xanthus Wilkerson\"},{'country': \"Italy\",'number': \"6\",'name': \"Debra Melendez\"},{'country': \"Germany\",'number': \"6\",'name': \"Galvin Morrison\"},{'country': \"Norway\",'number': \"10\",'name': \"Britanney Daniels\"},{'country': \"Italy\",'number': \"8\",'name': \"Steel Cantu\"},{'country': \"Mexico\",'number': \"7\",'name': \"Graham Ewing\"},{'country': \"China\",'number': \"3\",'name': \"Maia Dunn\"},{'country': \"Australia\",'number': \"3\",'name': \"Violet Thornton\"},{'country': \"Canada\",'number': \"5\",'name': \"Cleo Cardenas\"},{'country': \"United States\",'number': \"8\",'name': \"Castor Bowen\"},{'country': \"Australia\",'number': \"8\",'name': \"Wyatt Carey\"},{'country': \"Philippines\",'number': \"5\",'name': \"Paul Padilla\"},{'country': \"Costa Rica\",'number': \"8\",'name': \"Germane Welch\"},{'country': \"South Korea\",'number': \"4\",'name': \"Zephr Deleon\"},{'country': \"Russian Federation\",'number': \"9\",'name': \"Lionel Armstrong\"},{'country': \"Brazil\",'number': \"6\",'name': \"Eleanor Solomon\"},{'country': \"Nigeria\",'number': \"7\",'name': \"Rachel Woods\"},{'country': \"Indonesia\",'number': \"9\",'name': \"Philip Taylor\"},{'country': \"Brazil\",'number': \"7\",'name': \"Lilah Shelton\"},{'country': \"United Kingdom\",'number': \"3\",'name': \"Gillian Harrington\"},{'country': \"Mexico\",'number': \"3\",'name': \"Odessa Sutton\"}]\n"
      ]
    },
    {
      "cell_type": "code",
      "source": [
        "\n",
        "data.sort(key = lambda x: x.get('country'))\n",
        "print(data)"
      ],
      "metadata": {
        "colab": {
          "base_uri": "https://localhost:8080/"
        },
        "id": "kdjpb3FZfNVi",
        "outputId": "0e6f58af-e843-4061-d85d-e591a4cbb807"
      },
      "id": "kdjpb3FZfNVi",
      "execution_count": 9,
      "outputs": [
        {
          "output_type": "stream",
          "name": "stdout",
          "text": [
            "[{'country': 'Australia', 'number': '7', 'name': 'Adena Smith'}, {'country': 'Australia', 'number': '4', 'name': 'Elton Collins'}, {'country': 'Australia', 'number': '3', 'name': 'Charity Conner'}, {'country': 'Australia', 'number': '3', 'name': 'Violet Thornton'}, {'country': 'Australia', 'number': '8', 'name': 'Wyatt Carey'}, {'country': 'Austria', 'number': '6', 'name': 'Indigo Dillard'}, {'country': 'Austria', 'number': '3', 'name': 'Shafira Parks'}, {'country': 'Austria', 'number': '2', 'name': 'Davis Cardenas'}, {'country': 'Belgium', 'number': '8', 'name': 'Barclay Lindsey'}, {'country': 'Brazil', 'number': '6', 'name': 'Connor Potts'}, {'country': 'Brazil', 'number': '6', 'name': 'Eleanor Solomon'}, {'country': 'Brazil', 'number': '7', 'name': 'Lilah Shelton'}, {'country': 'Canada', 'number': '1', 'name': 'September Bryan'}, {'country': 'Canada', 'number': '8', 'name': 'Gisela Glenn'}, {'country': 'Canada', 'number': '5', 'name': 'Cleo Cardenas'}, {'country': 'Chile', 'number': '1', 'name': 'Ignatius Guy'}, {'country': 'Chile', 'number': '3', 'name': 'Benedict Powell'}, {'country': 'Chile', 'number': '5', 'name': 'Kay Parsons'}, {'country': 'Chile', 'number': '4', 'name': 'Stewart Coffey'}, {'country': 'China', 'number': '7', 'name': 'Rachel Dickson'}, {'country': 'China', 'number': '6', 'name': 'Minerva Shields'}, {'country': 'China', 'number': '5', 'name': 'Callie Cole'}, {'country': 'China', 'number': '1', 'name': 'Cassady Mcdaniel'}, {'country': 'China', 'number': '3', 'name': 'Rashad Grimes'}, {'country': 'China', 'number': '3', 'name': 'Maia Dunn'}, {'country': 'Colombia', 'number': '5', 'name': 'Inga Russell'}, {'country': 'Colombia', 'number': '1', 'name': 'Gray Hayden'}, {'country': 'Costa Rica', 'number': '2', 'name': 'Judah Brock'}, {'country': 'Costa Rica', 'number': '5', 'name': 'Hakeem Flowers'}, {'country': 'Costa Rica', 'number': '0', 'name': 'Eve Rivas'}, {'country': 'Costa Rica', 'number': '3', 'name': 'Phelan Hodges'}, {'country': 'Costa Rica', 'number': '8', 'name': 'Germane Welch'}, {'country': 'France', 'number': '4', 'name': 'Devin Spears'}, {'country': 'Germany', 'number': '7', 'name': 'Stacey Nixon'}, {'country': 'Germany', 'number': '6', 'name': 'Galvin Morrison'}, {'country': 'India', 'number': '4', 'name': 'Oren Dominguez'}, {'country': 'India', 'number': '9', 'name': 'Dante Charles'}, {'country': 'Indonesia', 'number': '9', 'name': 'Philip Taylor'}, {'country': 'Ireland', 'number': '2', 'name': 'Simon Giles'}, {'country': 'Ireland', 'number': '2', 'name': 'Lane Chandler'}, {'country': 'Ireland', 'number': '4', 'name': 'Rachel Howell'}, {'country': 'Italy', 'number': '2', 'name': 'Ronan Ellis'}, {'country': 'Italy', 'number': '7', 'name': 'Xanthus Wilkerson'}, {'country': 'Italy', 'number': '6', 'name': 'Debra Melendez'}, {'country': 'Italy', 'number': '8', 'name': 'Steel Cantu'}, {'country': 'Mexico', 'number': '3', 'name': 'Rylee Sharpe'}, {'country': 'Mexico', 'number': '3', 'name': 'Brynn Hinton'}, {'country': 'Mexico', 'number': '2', 'name': 'Yael Glass'}, {'country': 'Mexico', 'number': '7', 'name': 'Rajah Robles'}, {'country': 'Mexico', 'number': '7', 'name': 'Graham Ewing'}, {'country': 'Mexico', 'number': '3', 'name': 'Odessa Sutton'}, {'country': 'Netherlands', 'number': '9', 'name': 'Ivana Compton'}, {'country': 'New Zealand', 'number': '8', 'name': 'Tarik Coleman'}, {'country': 'Nigeria', 'number': '7', 'name': 'Rachel Woods'}, {'country': 'Norway', 'number': '5', 'name': 'Keane Dean'}, {'country': 'Norway', 'number': '7', 'name': 'Robin Butler'}, {'country': 'Norway', 'number': '8', 'name': 'Cain Fields'}, {'country': 'Norway', 'number': '10', 'name': 'Britanney Daniels'}, {'country': 'Pakistan', 'number': '0', 'name': 'Robert Cunningham'}, {'country': 'Peru', 'number': '2', 'name': 'Fuller Burris'}, {'country': 'Peru', 'number': '7', 'name': 'Abra Lewis'}, {'country': 'Peru', 'number': '0', 'name': 'Ross Moss'}, {'country': 'Philippines', 'number': '4', 'name': 'Omar Burgess'}, {'country': 'Philippines', 'number': '9', 'name': 'Simone Tanner'}, {'country': 'Philippines', 'number': '5', 'name': 'Paul Padilla'}, {'country': 'Poland', 'number': '6', 'name': 'Yen Sargent'}, {'country': 'Russian Federation', 'number': '9', 'name': 'Duncan Ware'}, {'country': 'Russian Federation', 'number': '9', 'name': 'Lionel Armstrong'}, {'country': 'Singapore', 'number': '2', 'name': 'Allegra Baird'}, {'country': 'Singapore', 'number': '3', 'name': 'Walter Forbes'}, {'country': 'Singapore', 'number': '6', 'name': 'Kasper Justice'}, {'country': 'South Africa', 'number': '3', 'name': 'Uriel Greene'}, {'country': 'South Africa', 'number': '4', 'name': 'Glenna Clark'}, {'country': 'South Korea', 'number': '2', 'name': 'Lucius Snider'}, {'country': 'South Korea', 'number': '8', 'name': 'Jamal Kelly'}, {'country': 'South Korea', 'number': '4', 'name': 'Zephr Deleon'}, {'country': 'Spain', 'number': '7', 'name': 'Tamekah Gutierrez'}, {'country': 'Spain', 'number': '8', 'name': 'Bo Hardy'}, {'country': 'Spain', 'number': '4', 'name': 'Ignatius Newman'}, {'country': 'Sweden', 'number': '7', 'name': 'Lyle Nguyen'}, {'country': 'Sweden', 'number': '2', 'name': 'Quinn Berg'}, {'country': 'Sweden', 'number': '8', 'name': 'Kylee Good'}, {'country': 'Turkey', 'number': '7', 'name': 'Kenyon Rosa'}, {'country': 'Ukraine', 'number': '3', 'name': 'Derek Bolton'}, {'country': 'Ukraine', 'number': '2', 'name': 'Kylan Witt'}, {'country': 'Ukraine', 'number': '7', 'name': 'Malcolm Cox'}, {'country': 'Ukraine', 'number': '3', 'name': 'Liberty Mathis'}, {'country': 'Ukraine', 'number': '3', 'name': 'Mohammad Holder'}, {'country': 'Ukraine', 'number': '4', 'name': 'Christen James'}, {'country': 'United Kingdom', 'number': '10', 'name': 'Zenia Coffey'}, {'country': 'United Kingdom', 'number': '1', 'name': 'Brendan Pearson'}, {'country': 'United Kingdom', 'number': '3', 'name': 'Gillian Harrington'}, {'country': 'United States', 'number': '3', 'name': 'Britanney Durham'}, {'country': 'United States', 'number': '1', 'name': 'Kitra Willis'}, {'country': 'United States', 'number': '0', 'name': 'Cedric Gates'}, {'country': 'United States', 'number': '3', 'name': 'Rudyard Barrett'}, {'country': 'United States', 'number': '8', 'name': 'Castor Bowen'}, {'country': 'Vietnam', 'number': '8', 'name': 'Jonas Bryan'}, {'country': 'Vietnam', 'number': '0', 'name': 'Iliana Daniels'}, {'country': 'Vietnam', 'number': '1', 'name': 'Eliana Nicholson'}]\n"
          ]
        }
      ]
    },
    {
      "cell_type": "code",
      "source": [
        "\n",
        "filterlist = list(filter(lambda x: x['name'][0] == 'A' or x['name'][0] == 'B', data))\n",
        "filterlist"
      ],
      "metadata": {
        "colab": {
          "base_uri": "https://localhost:8080/"
        },
        "id": "ZuxSX4e5fWOw",
        "outputId": "d6ba21f1-6a87-49bc-e320-b52e9a711ec4"
      },
      "id": "ZuxSX4e5fWOw",
      "execution_count": 10,
      "outputs": [
        {
          "output_type": "execute_result",
          "data": {
            "text/plain": [
              "[{'country': 'Australia', 'number': '7', 'name': 'Adena Smith'},\n",
              " {'country': 'Belgium', 'number': '8', 'name': 'Barclay Lindsey'},\n",
              " {'country': 'Chile', 'number': '3', 'name': 'Benedict Powell'},\n",
              " {'country': 'Mexico', 'number': '3', 'name': 'Brynn Hinton'},\n",
              " {'country': 'Norway', 'number': '10', 'name': 'Britanney Daniels'},\n",
              " {'country': 'Peru', 'number': '7', 'name': 'Abra Lewis'},\n",
              " {'country': 'Singapore', 'number': '2', 'name': 'Allegra Baird'},\n",
              " {'country': 'Spain', 'number': '8', 'name': 'Bo Hardy'},\n",
              " {'country': 'United Kingdom', 'number': '1', 'name': 'Brendan Pearson'},\n",
              " {'country': 'United States', 'number': '3', 'name': 'Britanney Durham'}]"
            ]
          },
          "metadata": {},
          "execution_count": 10
        }
      ]
    },
    {
      "cell_type": "code",
      "source": [
        "\n",
        "flist02 = list(filter(lambda x:(int(x['number'])%2!=0)and(int(x['number'])%3!=0),data))\n",
        "flist02"
      ],
      "metadata": {
        "colab": {
          "base_uri": "https://localhost:8080/"
        },
        "id": "qQWz-FzzfZqJ",
        "outputId": "eb3ad269-147e-4dd6-cee8-1b348f192068"
      },
      "id": "qQWz-FzzfZqJ",
      "execution_count": 11,
      "outputs": [
        {
          "output_type": "execute_result",
          "data": {
            "text/plain": [
              "[{'country': 'Australia', 'number': '7', 'name': 'Adena Smith'},\n",
              " {'country': 'Brazil', 'number': '7', 'name': 'Lilah Shelton'},\n",
              " {'country': 'Canada', 'number': '1', 'name': 'September Bryan'},\n",
              " {'country': 'Canada', 'number': '5', 'name': 'Cleo Cardenas'},\n",
              " {'country': 'Chile', 'number': '1', 'name': 'Ignatius Guy'},\n",
              " {'country': 'Chile', 'number': '5', 'name': 'Kay Parsons'},\n",
              " {'country': 'China', 'number': '7', 'name': 'Rachel Dickson'},\n",
              " {'country': 'China', 'number': '5', 'name': 'Callie Cole'},\n",
              " {'country': 'China', 'number': '1', 'name': 'Cassady Mcdaniel'},\n",
              " {'country': 'Colombia', 'number': '5', 'name': 'Inga Russell'},\n",
              " {'country': 'Colombia', 'number': '1', 'name': 'Gray Hayden'},\n",
              " {'country': 'Costa Rica', 'number': '5', 'name': 'Hakeem Flowers'},\n",
              " {'country': 'Germany', 'number': '7', 'name': 'Stacey Nixon'},\n",
              " {'country': 'Italy', 'number': '7', 'name': 'Xanthus Wilkerson'},\n",
              " {'country': 'Mexico', 'number': '7', 'name': 'Rajah Robles'},\n",
              " {'country': 'Mexico', 'number': '7', 'name': 'Graham Ewing'},\n",
              " {'country': 'Nigeria', 'number': '7', 'name': 'Rachel Woods'},\n",
              " {'country': 'Norway', 'number': '5', 'name': 'Keane Dean'},\n",
              " {'country': 'Norway', 'number': '7', 'name': 'Robin Butler'},\n",
              " {'country': 'Peru', 'number': '7', 'name': 'Abra Lewis'},\n",
              " {'country': 'Philippines', 'number': '5', 'name': 'Paul Padilla'},\n",
              " {'country': 'Spain', 'number': '7', 'name': 'Tamekah Gutierrez'},\n",
              " {'country': 'Sweden', 'number': '7', 'name': 'Lyle Nguyen'},\n",
              " {'country': 'Turkey', 'number': '7', 'name': 'Kenyon Rosa'},\n",
              " {'country': 'Ukraine', 'number': '7', 'name': 'Malcolm Cox'},\n",
              " {'country': 'United Kingdom', 'number': '1', 'name': 'Brendan Pearson'},\n",
              " {'country': 'United States', 'number': '1', 'name': 'Kitra Willis'},\n",
              " {'country': 'Vietnam', 'number': '1', 'name': 'Eliana Nicholson'}]"
            ]
          },
          "metadata": {},
          "execution_count": 11
        }
      ]
    },
    {
      "cell_type": "code",
      "source": [
        "\n",
        "doublelist = list(map(lambda x:{'name':x['name'],'country':x['country'],'number':x['number']*2},data))\n",
        "data"
      ],
      "metadata": {
        "colab": {
          "base_uri": "https://localhost:8080/"
        },
        "id": "AZHOh2Evfck5",
        "outputId": "bdb193e7-cae4-46c4-9ed6-4abd0612f818"
      },
      "id": "AZHOh2Evfck5",
      "execution_count": 12,
      "outputs": [
        {
          "output_type": "execute_result",
          "data": {
            "text/plain": [
              "[{'country': 'Australia', 'number': '7', 'name': 'Adena Smith'},\n",
              " {'country': 'Australia', 'number': '4', 'name': 'Elton Collins'},\n",
              " {'country': 'Australia', 'number': '3', 'name': 'Charity Conner'},\n",
              " {'country': 'Australia', 'number': '3', 'name': 'Violet Thornton'},\n",
              " {'country': 'Australia', 'number': '8', 'name': 'Wyatt Carey'},\n",
              " {'country': 'Austria', 'number': '6', 'name': 'Indigo Dillard'},\n",
              " {'country': 'Austria', 'number': '3', 'name': 'Shafira Parks'},\n",
              " {'country': 'Austria', 'number': '2', 'name': 'Davis Cardenas'},\n",
              " {'country': 'Belgium', 'number': '8', 'name': 'Barclay Lindsey'},\n",
              " {'country': 'Brazil', 'number': '6', 'name': 'Connor Potts'},\n",
              " {'country': 'Brazil', 'number': '6', 'name': 'Eleanor Solomon'},\n",
              " {'country': 'Brazil', 'number': '7', 'name': 'Lilah Shelton'},\n",
              " {'country': 'Canada', 'number': '1', 'name': 'September Bryan'},\n",
              " {'country': 'Canada', 'number': '8', 'name': 'Gisela Glenn'},\n",
              " {'country': 'Canada', 'number': '5', 'name': 'Cleo Cardenas'},\n",
              " {'country': 'Chile', 'number': '1', 'name': 'Ignatius Guy'},\n",
              " {'country': 'Chile', 'number': '3', 'name': 'Benedict Powell'},\n",
              " {'country': 'Chile', 'number': '5', 'name': 'Kay Parsons'},\n",
              " {'country': 'Chile', 'number': '4', 'name': 'Stewart Coffey'},\n",
              " {'country': 'China', 'number': '7', 'name': 'Rachel Dickson'},\n",
              " {'country': 'China', 'number': '6', 'name': 'Minerva Shields'},\n",
              " {'country': 'China', 'number': '5', 'name': 'Callie Cole'},\n",
              " {'country': 'China', 'number': '1', 'name': 'Cassady Mcdaniel'},\n",
              " {'country': 'China', 'number': '3', 'name': 'Rashad Grimes'},\n",
              " {'country': 'China', 'number': '3', 'name': 'Maia Dunn'},\n",
              " {'country': 'Colombia', 'number': '5', 'name': 'Inga Russell'},\n",
              " {'country': 'Colombia', 'number': '1', 'name': 'Gray Hayden'},\n",
              " {'country': 'Costa Rica', 'number': '2', 'name': 'Judah Brock'},\n",
              " {'country': 'Costa Rica', 'number': '5', 'name': 'Hakeem Flowers'},\n",
              " {'country': 'Costa Rica', 'number': '0', 'name': 'Eve Rivas'},\n",
              " {'country': 'Costa Rica', 'number': '3', 'name': 'Phelan Hodges'},\n",
              " {'country': 'Costa Rica', 'number': '8', 'name': 'Germane Welch'},\n",
              " {'country': 'France', 'number': '4', 'name': 'Devin Spears'},\n",
              " {'country': 'Germany', 'number': '7', 'name': 'Stacey Nixon'},\n",
              " {'country': 'Germany', 'number': '6', 'name': 'Galvin Morrison'},\n",
              " {'country': 'India', 'number': '4', 'name': 'Oren Dominguez'},\n",
              " {'country': 'India', 'number': '9', 'name': 'Dante Charles'},\n",
              " {'country': 'Indonesia', 'number': '9', 'name': 'Philip Taylor'},\n",
              " {'country': 'Ireland', 'number': '2', 'name': 'Simon Giles'},\n",
              " {'country': 'Ireland', 'number': '2', 'name': 'Lane Chandler'},\n",
              " {'country': 'Ireland', 'number': '4', 'name': 'Rachel Howell'},\n",
              " {'country': 'Italy', 'number': '2', 'name': 'Ronan Ellis'},\n",
              " {'country': 'Italy', 'number': '7', 'name': 'Xanthus Wilkerson'},\n",
              " {'country': 'Italy', 'number': '6', 'name': 'Debra Melendez'},\n",
              " {'country': 'Italy', 'number': '8', 'name': 'Steel Cantu'},\n",
              " {'country': 'Mexico', 'number': '3', 'name': 'Rylee Sharpe'},\n",
              " {'country': 'Mexico', 'number': '3', 'name': 'Brynn Hinton'},\n",
              " {'country': 'Mexico', 'number': '2', 'name': 'Yael Glass'},\n",
              " {'country': 'Mexico', 'number': '7', 'name': 'Rajah Robles'},\n",
              " {'country': 'Mexico', 'number': '7', 'name': 'Graham Ewing'},\n",
              " {'country': 'Mexico', 'number': '3', 'name': 'Odessa Sutton'},\n",
              " {'country': 'Netherlands', 'number': '9', 'name': 'Ivana Compton'},\n",
              " {'country': 'New Zealand', 'number': '8', 'name': 'Tarik Coleman'},\n",
              " {'country': 'Nigeria', 'number': '7', 'name': 'Rachel Woods'},\n",
              " {'country': 'Norway', 'number': '5', 'name': 'Keane Dean'},\n",
              " {'country': 'Norway', 'number': '7', 'name': 'Robin Butler'},\n",
              " {'country': 'Norway', 'number': '8', 'name': 'Cain Fields'},\n",
              " {'country': 'Norway', 'number': '10', 'name': 'Britanney Daniels'},\n",
              " {'country': 'Pakistan', 'number': '0', 'name': 'Robert Cunningham'},\n",
              " {'country': 'Peru', 'number': '2', 'name': 'Fuller Burris'},\n",
              " {'country': 'Peru', 'number': '7', 'name': 'Abra Lewis'},\n",
              " {'country': 'Peru', 'number': '0', 'name': 'Ross Moss'},\n",
              " {'country': 'Philippines', 'number': '4', 'name': 'Omar Burgess'},\n",
              " {'country': 'Philippines', 'number': '9', 'name': 'Simone Tanner'},\n",
              " {'country': 'Philippines', 'number': '5', 'name': 'Paul Padilla'},\n",
              " {'country': 'Poland', 'number': '6', 'name': 'Yen Sargent'},\n",
              " {'country': 'Russian Federation', 'number': '9', 'name': 'Duncan Ware'},\n",
              " {'country': 'Russian Federation', 'number': '9', 'name': 'Lionel Armstrong'},\n",
              " {'country': 'Singapore', 'number': '2', 'name': 'Allegra Baird'},\n",
              " {'country': 'Singapore', 'number': '3', 'name': 'Walter Forbes'},\n",
              " {'country': 'Singapore', 'number': '6', 'name': 'Kasper Justice'},\n",
              " {'country': 'South Africa', 'number': '3', 'name': 'Uriel Greene'},\n",
              " {'country': 'South Africa', 'number': '4', 'name': 'Glenna Clark'},\n",
              " {'country': 'South Korea', 'number': '2', 'name': 'Lucius Snider'},\n",
              " {'country': 'South Korea', 'number': '8', 'name': 'Jamal Kelly'},\n",
              " {'country': 'South Korea', 'number': '4', 'name': 'Zephr Deleon'},\n",
              " {'country': 'Spain', 'number': '7', 'name': 'Tamekah Gutierrez'},\n",
              " {'country': 'Spain', 'number': '8', 'name': 'Bo Hardy'},\n",
              " {'country': 'Spain', 'number': '4', 'name': 'Ignatius Newman'},\n",
              " {'country': 'Sweden', 'number': '7', 'name': 'Lyle Nguyen'},\n",
              " {'country': 'Sweden', 'number': '2', 'name': 'Quinn Berg'},\n",
              " {'country': 'Sweden', 'number': '8', 'name': 'Kylee Good'},\n",
              " {'country': 'Turkey', 'number': '7', 'name': 'Kenyon Rosa'},\n",
              " {'country': 'Ukraine', 'number': '3', 'name': 'Derek Bolton'},\n",
              " {'country': 'Ukraine', 'number': '2', 'name': 'Kylan Witt'},\n",
              " {'country': 'Ukraine', 'number': '7', 'name': 'Malcolm Cox'},\n",
              " {'country': 'Ukraine', 'number': '3', 'name': 'Liberty Mathis'},\n",
              " {'country': 'Ukraine', 'number': '3', 'name': 'Mohammad Holder'},\n",
              " {'country': 'Ukraine', 'number': '4', 'name': 'Christen James'},\n",
              " {'country': 'United Kingdom', 'number': '10', 'name': 'Zenia Coffey'},\n",
              " {'country': 'United Kingdom', 'number': '1', 'name': 'Brendan Pearson'},\n",
              " {'country': 'United Kingdom', 'number': '3', 'name': 'Gillian Harrington'},\n",
              " {'country': 'United States', 'number': '3', 'name': 'Britanney Durham'},\n",
              " {'country': 'United States', 'number': '1', 'name': 'Kitra Willis'},\n",
              " {'country': 'United States', 'number': '0', 'name': 'Cedric Gates'},\n",
              " {'country': 'United States', 'number': '3', 'name': 'Rudyard Barrett'},\n",
              " {'country': 'United States', 'number': '8', 'name': 'Castor Bowen'},\n",
              " {'country': 'Vietnam', 'number': '8', 'name': 'Jonas Bryan'},\n",
              " {'country': 'Vietnam', 'number': '0', 'name': 'Iliana Daniels'},\n",
              " {'country': 'Vietnam', 'number': '1', 'name': 'Eliana Nicholson'}]"
            ]
          },
          "metadata": {},
          "execution_count": 12
        }
      ]
    },
    {
      "cell_type": "code",
      "source": [],
      "metadata": {
        "id": "YWUjuaVLgtAz"
      },
      "id": "YWUjuaVLgtAz",
      "execution_count": null,
      "outputs": []
    },
    {
      "cell_type": "markdown",
      "id": "e38c201d",
      "metadata": {
        "id": "e38c201d"
      },
      "source": [
        "# Recursive functions\n",
        "### For any recursive function you write in this section, make clear (with comments) what your base cases and your recursive cases are.\n",
        "Remember the example of the factorial function from the lecture. I will reproduce the Python code here:"
      ]
    },
    {
      "cell_type": "code",
      "execution_count": null,
      "id": "fe8e5c07",
      "metadata": {
        "id": "fe8e5c07"
      },
      "outputs": [],
      "source": [
        "def factorial(x):\n",
        "    if x == 0: # base case\n",
        "        return 1\n",
        "    else: # recursive case\n",
        "        return (x * factorial(x-1))\n",
        "\n",
        "\n",
        "num = 6\n",
        "print(\"The factorial of\", num, \"is\", factorial(num))"
      ]
    },
    {
      "cell_type": "markdown",
      "id": "fec13b6f",
      "metadata": {
        "id": "fec13b6f"
      },
      "source": [
        "The other example in the lecture was concerned with Fibonacci numbers.\n",
        "### Exercise 1\n",
        "#### a\n",
        "Implement this Fibonacci function **recursively** in Python:"
      ]
    },
    {
      "cell_type": "code",
      "execution_count": null,
      "id": "5aa9d82d",
      "metadata": {
        "colab": {
          "base_uri": "https://localhost:8080/"
        },
        "id": "5aa9d82d",
        "outputId": "bf74fd18-3f5a-492d-b03c-081b54c363e8"
      },
      "outputs": [
        {
          "output_type": "stream",
          "name": "stdout",
          "text": [
            "The Fibonacci sequence of 10 is\n",
            "0\n",
            "1\n",
            "1\n",
            "2\n",
            "3\n",
            "5\n",
            "8\n",
            "13\n",
            "21\n",
            "34\n"
          ]
        }
      ],
      "source": [
        "def fibonacci(n):\n",
        "   if n <= 1: #base case\n",
        "       return n\n",
        "   else:      #recursive case\n",
        "       return(fibonacci(n-1) + fibonacci(n-2))\n",
        "\n",
        "num = 10\n",
        "\n",
        "# check if the number is negative\n",
        "if num <= 0:\n",
        "   print(\"sorry,please enter positive integer\")\n",
        "else:\n",
        "   print(\"The Fibonacci sequence of\",num,\"is\")\n",
        "   for i in range(num):\n",
        "       print(fibonacci(i))"
      ]
    },
    {
      "cell_type": "markdown",
      "id": "a89ff1b4",
      "metadata": {
        "id": "a89ff1b4"
      },
      "source": [
        "#### b\n",
        "Test your function on some higher numbers. What do you notice? What do you think is causing this?"
      ]
    },
    {
      "cell_type": "markdown",
      "id": "02d6b0c3",
      "metadata": {
        "id": "02d6b0c3"
      },
      "source": [
        "**It keeps on executing the cell where the function call stack overflows with an enormous amount of function calls and free stack space essentially runs out.**"
      ]
    },
    {
      "cell_type": "markdown",
      "id": "0ccdd531",
      "metadata": {
        "id": "0ccdd531"
      },
      "source": [
        "### Exercise 2\n",
        "Write a recursive function that takes a list of integers as input and returns the maximum integer stored in the list. Thinking recursively, the maximum is either the first value in the list or the maximum of the rest of the list, whichever is larger. If the list only has 1 integer, then its maximum is this single value, naturally."
      ]
    },
    {
      "cell_type": "code",
      "execution_count": null,
      "id": "461dcfd1",
      "metadata": {
        "id": "461dcfd1"
      },
      "outputs": [],
      "source": [
        "# creating empty list\n",
        "list1 = []\n",
        " \n",
        "# asking number of elements to put in list\n",
        "num = int(input(\"Enter number of values in list: \"))\n",
        " \n",
        "# iterating till num to append elements in list\n",
        "for i in range(1, num + 1):\n",
        "    values = int(input(\"Enter integer value: \"))\n",
        "    list1.append(values)\n",
        "     \n",
        "# print maximum element\n",
        "print(\"Largest integer value is:\", max(list1))"
      ]
    },
    {
      "cell_type": "markdown",
      "id": "f7d5ea73",
      "metadata": {
        "id": "f7d5ea73"
      },
      "source": [
        "### Exercise 3\n",
        "Write a recursive function **letterCount** that takes a string and a character as input, and returns how many times the character occurs in the string. For example, it should have the following outputs:\n",
        "* **letterCount**(\"Julian\", 'i') = 1\n",
        "* **letterCount**(\"Ceel\", 'e') = 2\n",
        "* **letterCount**(\"Joris\", 'a') = 0"
      ]
    },
    {
      "cell_type": "code",
      "source": [
        "def count(string, ch):\n",
        "    n= 0\n",
        "    for i in range(len(text)):\n",
        "        if (text[i] == char):\n",
        "            n= n +1\n",
        "    return n\n",
        "for i in range (3):\n",
        " string=input(\"Enter string:\")\n",
        " ch=input(\"Enter character to check:\")\n",
        " count=string.count(ch)\n",
        " print(\"letterCount (\\\"{}\\\",\\\"{}\\\")={}\".format(string,ch,count))\n",
        "break\n"
      ],
      "metadata": {
        "colab": {
          "base_uri": "https://localhost:8080/"
        },
        "id": "KHdKLzOFlgQ0",
        "outputId": "f9b9ecd3-f118-4273-a277-12ca71c89d16"
      },
      "id": "KHdKLzOFlgQ0",
      "execution_count": 32,
      "outputs": [
        {
          "output_type": "stream",
          "name": "stdout",
          "text": [
            "Enter string:julian\n",
            "Enter character to check:i\n",
            "letterCount (\"julian\",\"i\")=1\n",
            "Enter string:ceel\n",
            "Enter character to check:e\n",
            "letterCount (\"ceel\",\"e\")=2\n",
            "Enter string:joris\n",
            "Enter character to check:a\n",
            "letterCount (\"joris\",\"a\")=0\n"
          ]
        }
      ]
    },
    {
      "cell_type": "code",
      "source": [
        "def check(string,ch):\n",
        "      if not string:\n",
        "        return 0\n",
        "      elif string[0]==ch:\n",
        "            return 1+check(string[1:],ch)\n",
        "      else:\n",
        "            return check(string[1:],ch)\n",
        "string=input(\"Enter string:\")\n",
        "ch=input(\"Enter character to check:\")\n",
        "print(\"Count is:\",check(string,ch))\n"
      ],
      "metadata": {
        "colab": {
          "base_uri": "https://localhost:8080/"
        },
        "id": "l8Ao55X9FBXk",
        "outputId": "7ec348d5-ee9a-4698-bce7-4a3df43541d5"
      },
      "id": "l8Ao55X9FBXk",
      "execution_count": null,
      "outputs": [
        {
          "output_type": "stream",
          "name": "stdout",
          "text": [
            "Enter string:julian\n",
            "Enter character to check:i\n",
            "Count is: 1\n"
          ]
        }
      ]
    },
    {
      "cell_type": "markdown",
      "id": "bcdb69fe",
      "metadata": {
        "id": "bcdb69fe"
      },
      "source": [
        "# Turing Machines\n",
        "### The exercises for this section are made outside of this notebook. To hand in, either add a separate file with the code to your personal GitHub map, or copy-paste it into the box at the bottom of the notebook. Make sure to clearly label which code belongs to which exercise!\n",
        "Go to turingmachine.io and open the 'binary increment' example at the top. Play around with it and try to understand what is happening.\n",
        "\n",
        "### Exercise 1\n",
        "Make the exercises for the binary increment that are printed below the code on the web page. I will reproduce them here for your convenience:\n",
        "\n",
        "exercises\n",
        "\n",
        "\t# • Modify the machine to always halt on the leftmost digit\n",
        "\t#   (regardless of the number's length).\n",
        "\t#   Hint: add a state between carry and done.\n",
        "\n",
        "\t# • Make a machine that adds 2 instead of 1.\n",
        "\t#   Hint: 2 is '10' in binary, so the last digit is unaffected.\n",
        "\t#   Alternative hint: chain together two copies of the machine from\n",
        "\t#   the first exercise (renaming the states of the second copy).\n",
        "\n",
        "\t# • Make a machine to subtract 1.\n",
        "\t#   To simplify things, assume the input is always greater than 0.\n",
        "\n",
        "### Exercise 2\n",
        "Choose an example at the top (different from 'binary increment') that has complementery exercises and do those.\n",
        "\n"
      ]
    },
    {
      "cell_type": "code",
      "source": [
        "name: binary increment\n",
        "source code: |+\n",
        "\n",
        "  # Adds 1 to a binary number.\n",
        "  input: '1000'\n",
        "  blank: ' '\n",
        "  start state: right\n",
        "  table:\n",
        "    # scan to the rightmost digit\n",
        "    right:\n",
        "      [1,0]: R\n",
        "      ' '  : {L: carry}\n",
        "    # then carry the 1\n",
        "    carry:\n",
        "      [1,0] : {L: change}\n",
        "    change:\n",
        "      1 : {write: 0, L}\n",
        "      [0,' '] : {write: 1, L: done}\n",
        "    done:\n",
        "\n",
        "  #  Modify the machine to always halt on the leftmost digit\n",
        "  #   (regardless of the number's length).\n",
        "  #   Hint: add a state between carry and done.\n",
        "\n",
        "  # • Make a machine that adds 2 instead of 1.\n",
        "  #   Hint: 2 is '10' in binary, so the last digit is unaffected.\n",
        "  #   Alternative hint: chain together two copies of the machine from\n",
        "  #   the first exercise (renaming the states of the second copy).\n",
        "\n",
        "  # • Make a machine to subtract 1.\n",
        "  #   To simplify things, assume the input is always greater than 0.\n",
        "\n",
        "positions:\n",
        "  right: {x: 230, y: 250}\n",
        "  carry: {x: 400, y: 250}\n",
        "  change: {x: 472.07, y: 364.06, fixed: false}\n",
        "  done: {x: 570, y: 250}\n"
      ],
      "metadata": {
        "id": "zFV3-E3kqPy1"
      },
      "id": "zFV3-E3kqPy1",
      "execution_count": null,
      "outputs": []
    },
    {
      "cell_type": "markdown",
      "source": [],
      "metadata": {
        "id": "HBPH0Estt-vO"
      },
      "id": "HBPH0Estt-vO"
    }
  ],
  "metadata": {
    "kernelspec": {
      "display_name": "Python 3 (ipykernel)",
      "language": "python",
      "name": "python3"
    },
    "language_info": {
      "codemirror_mode": {
        "name": "ipython",
        "version": 3
      },
      "file_extension": ".py",
      "mimetype": "text/x-python",
      "name": "python",
      "nbconvert_exporter": "python",
      "pygments_lexer": "ipython3",
      "version": "3.9.13"
    },
    "colab": {
      "provenance": [],
      "include_colab_link": true
    }
  },
  "nbformat": 4,
  "nbformat_minor": 5
}